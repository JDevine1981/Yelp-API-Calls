{
 "cells": [
  {
   "cell_type": "code",
   "execution_count": 37,
   "id": "a3752d10-c01b-4995-9da5-228e1df7cab4",
   "metadata": {},
   "outputs": [],
   "source": [
    "import json\n",
    "with open('/Users/justindevine/.secret/Data/yelp_api.json') as f:\n",
    "    login = json.load(f)"
   ]
  },
  {
   "cell_type": "code",
   "execution_count": 38,
   "id": "ece956f7-3e72-41e8-9f8a-8ec933d9e6c6",
   "metadata": {},
   "outputs": [],
   "source": [
    "# Standard Imports\n",
    "import numpy as np\n",
    "import pandas as pd\n",
    "import matplotlib.pyplot as plt\n",
    "import seaborn as sns\n",
    "# Additional Imports\n",
    "import os, json, math, time\n",
    "from yelpapi import YelpAPI\n",
    "from tqdm.notebook import tqdm_notebook"
   ]
  },
  {
   "cell_type": "code",
   "execution_count": 39,
   "id": "7d570da2-443c-48c2-b613-ba2c883258e6",
   "metadata": {},
   "outputs": [],
   "source": [
    "yelp_api = YelpAPI(login['api-key'], timeout_s=5.0)"
   ]
  },
  {
   "cell_type": "code",
   "execution_count": 40,
   "id": "db1c730f-ed45-428e-87c1-467b2481303d",
   "metadata": {},
   "outputs": [],
   "source": [
    "# set our API call parameters \n",
    "LOCATION = 'New Orleans'\n",
    "TERM = 'Gumbo'"
   ]
  },
  {
   "cell_type": "code",
   "execution_count": 41,
   "id": "25547b0b-8256-4477-8933-4c1954f85560",
   "metadata": {},
   "outputs": [
    {
     "data": {
      "text/plain": [
       "'Data/results_NO_Gumbo.json'"
      ]
     },
     "execution_count": 41,
     "metadata": {},
     "output_type": "execute_result"
    }
   ],
   "source": [
    "# Specifying JSON_FILE filename (can include a folder)\n",
    "# include the search terms in the filename\n",
    "JSON_FILE = \"Data/results_NO_Gumbo.json\"\n",
    "JSON_FILE"
   ]
  },
  {
   "cell_type": "code",
   "execution_count": 42,
   "id": "06a088d6-3b1d-49e9-bc23-f1d7faf0469b",
   "metadata": {},
   "outputs": [
    {
     "name": "stdout",
     "output_type": "stream",
     "text": [
      "[i] Data/results_NO_Gumbo.json not found. Saving empty list to file.\n"
     ]
    }
   ],
   "source": [
    "## Check if JSON_FILE exists\n",
    "file_exists = os.path.isfile(JSON_FILE)\n",
    "## If it does not exist: \n",
    "if file_exists == False:\n",
    "    \n",
    "    ## CREATE ANY NEEDED FOLDERS\n",
    "    # Get the Folder Name only\n",
    "    folder = os.path.dirname(JSON_FILE)\n",
    "    ## If JSON_FILE included a folder:\n",
    "    if len(folder)>0:\n",
    "        # create the folder\n",
    "        os.makedirs(folder,exist_ok=True)\n",
    "        \n",
    "        \n",
    "    ## INFORM USER AND SAVE EMPTY LIST\n",
    "    print(f'[i] {JSON_FILE} not found. Saving empty list to file.')\n",
    "    \n",
    "    \n",
    "    # save an empty list\n",
    "    with open(JSON_FILE,'w') as f:\n",
    "        json.dump([],f)  \n",
    "# If it exists, inform user\n",
    "else:\n",
    "    print(f\"[i] {JSON_FILE} already exists.\")"
   ]
  },
  {
   "cell_type": "code",
   "execution_count": 43,
   "id": "f4c452ed-9a9c-4da1-9e25-4fe8e913afa3",
   "metadata": {},
   "outputs": [
    {
     "name": "stdout",
     "output_type": "stream",
     "text": [
      "- 0 previous results found.\n"
     ]
    }
   ],
   "source": [
    "## Load previous results and use len of results for offset\n",
    "with open(JSON_FILE,'r') as f:\n",
    "    previous_results = json.load(f)\n",
    "    \n",
    "## set offset based on previous results\n",
    "n_results = len(previous_results)\n",
    "print(f'- {n_results} previous results found.')"
   ]
  },
  {
   "cell_type": "code",
   "execution_count": 44,
   "id": "07d851c3-e656-42ef-9096-a3074ce9d963",
   "metadata": {},
   "outputs": [
    {
     "data": {
      "text/plain": [
       "dict_keys(['businesses', 'total', 'region'])"
      ]
     },
     "execution_count": 44,
     "metadata": {},
     "output_type": "execute_result"
    }
   ],
   "source": [
    "# use our yelp_api variable's search_query method to perform our API call\n",
    "results = yelp_api.search_query(location=LOCATION,\n",
    "                                term=TERM,\n",
    "                               offset=n_results)\n",
    "results.keys()"
   ]
  },
  {
   "cell_type": "code",
   "execution_count": 45,
   "id": "712ea188-aa8a-441b-90c7-3ec6838bf5c9",
   "metadata": {},
   "outputs": [
    {
     "data": {
      "text/plain": [
       "555"
      ]
     },
     "execution_count": 45,
     "metadata": {},
     "output_type": "execute_result"
    }
   ],
   "source": [
    "## How many results total?\n",
    "total_results = results['total']\n",
    "total_results"
   ]
  },
  {
   "cell_type": "code",
   "execution_count": 46,
   "id": "265b1db5-08a1-439b-8d30-3367a8b1adeb",
   "metadata": {},
   "outputs": [
    {
     "data": {
      "text/plain": [
       "20"
      ]
     },
     "execution_count": 46,
     "metadata": {},
     "output_type": "execute_result"
    }
   ],
   "source": [
    "## How many did we get the details for?\n",
    "results_per_page = len(results['businesses'])\n",
    "results_per_page"
   ]
  },
  {
   "cell_type": "code",
   "execution_count": 47,
   "id": "a0327830-b267-4398-aea6-adb0554765d8",
   "metadata": {},
   "outputs": [
    {
     "data": {
      "text/plain": [
       "28"
      ]
     },
     "execution_count": 47,
     "metadata": {},
     "output_type": "execute_result"
    }
   ],
   "source": [
    "# Import additional packages for controlling our loop\n",
    "import time, math\n",
    "# Use math.ceil to round up for the total number of pages of results.\n",
    "n_pages = math.ceil((results['total']-n_results)/ results_per_page)\n",
    "n_pages"
   ]
  },
  {
   "cell_type": "code",
   "execution_count": 48,
   "id": "f249ac54-d393-4314-a3f6-9762514e39fc",
   "metadata": {},
   "outputs": [],
   "source": [
    "# join new results with old list with extend and save to file\n",
    "previous_results.extend(results['businesses'])  \n",
    "with open(JSON_FILE,'w') as f:\n",
    "     json.dump(previous_results,f)"
   ]
  },
  {
   "cell_type": "code",
   "execution_count": 49,
   "id": "9d74b6cc-427e-4803-b757-be12d50c7967",
   "metadata": {},
   "outputs": [
    {
     "data": {
      "application/vnd.jupyter.widget-view+json": {
       "model_id": "9b7e5983f3e44890810930542bf77499",
       "version_major": 2,
       "version_minor": 0
      },
      "text/plain": [
       "  0%|          | 0/28 [00:00<?, ?it/s]"
      ]
     },
     "metadata": {},
     "output_type": "display_data"
    }
   ],
   "source": [
    "from tqdm.notebook import tqdm_notebook\n",
    "import time\n",
    "for i in tqdm_notebook(range(n_pages)):\n",
    "    # adds 200 ms pause\n",
    "    time.sleep(.2) "
   ]
  },
  {
   "cell_type": "code",
   "execution_count": 50,
   "id": "69ca7131-e965-464c-b1b2-8146c0cbc9c6",
   "metadata": {},
   "outputs": [
    {
     "data": {
      "application/vnd.jupyter.widget-view+json": {
       "model_id": "2d477d90d9124112b23c1add8ccc4543",
       "version_major": 2,
       "version_minor": 0
      },
      "text/plain": [
       "  0%|          | 0/28 [00:00<?, ?it/s]"
      ]
     },
     "metadata": {},
     "output_type": "display_data"
    }
   ],
   "source": [
    "for i in tqdm_notebook( range(1,n_pages+1)):\n",
    "    \n",
    "    ## Read in results in progress file and check the length\n",
    "    with open(JSON_FILE, 'r') as f:\n",
    "        previous_results = json.load(f)\n",
    "    ## save number of results for to use as offset\n",
    "    n_results = len(previous_results)\n",
    "    ## use n_results as the OFFSET \n",
    "    results = yelp_api.search_query(location=LOCATION,\n",
    "                                    term=TERM, \n",
    "                                    offset=n_results)\n",
    "    \n",
    "    ## append new results and save to file\n",
    "    previous_results.extend(results['businesses'])\n",
    "    \n",
    "    with open(JSON_FILE,'w') as f:\n",
    "        json.dump(previous_results,f)\n",
    "    \n",
    "    # add a 200ms pause\n",
    "    time.sleep(.2)"
   ]
  },
  {
   "cell_type": "code",
   "execution_count": 51,
   "id": "742fcf04-5d4e-42ff-9e47-23b98c3e5d2e",
   "metadata": {},
   "outputs": [
    {
     "data": {
      "text/html": [
       "<div>\n",
       "<style scoped>\n",
       "    .dataframe tbody tr th:only-of-type {\n",
       "        vertical-align: middle;\n",
       "    }\n",
       "\n",
       "    .dataframe tbody tr th {\n",
       "        vertical-align: top;\n",
       "    }\n",
       "\n",
       "    .dataframe thead th {\n",
       "        text-align: right;\n",
       "    }\n",
       "</style>\n",
       "<table border=\"1\" class=\"dataframe\">\n",
       "  <thead>\n",
       "    <tr style=\"text-align: right;\">\n",
       "      <th></th>\n",
       "      <th>id</th>\n",
       "      <th>alias</th>\n",
       "      <th>name</th>\n",
       "      <th>image_url</th>\n",
       "      <th>is_closed</th>\n",
       "      <th>url</th>\n",
       "      <th>review_count</th>\n",
       "      <th>categories</th>\n",
       "      <th>rating</th>\n",
       "      <th>coordinates</th>\n",
       "      <th>transactions</th>\n",
       "      <th>price</th>\n",
       "      <th>location</th>\n",
       "      <th>phone</th>\n",
       "      <th>display_phone</th>\n",
       "      <th>distance</th>\n",
       "    </tr>\n",
       "  </thead>\n",
       "  <tbody>\n",
       "    <tr>\n",
       "      <th>0</th>\n",
       "      <td>qb28j-FNX1_6xm7u372TZA</td>\n",
       "      <td>gumbo-shop-new-orleans-2</td>\n",
       "      <td>Gumbo Shop</td>\n",
       "      <td>https://s3-media2.fl.yelpcdn.com/bphoto/s3LSJn...</td>\n",
       "      <td>False</td>\n",
       "      <td>https://www.yelp.com/biz/gumbo-shop-new-orlean...</td>\n",
       "      <td>4524</td>\n",
       "      <td>[{'alias': 'cajun', 'title': 'Cajun/Creole'}]</td>\n",
       "      <td>4.0</td>\n",
       "      <td>{'latitude': 29.957692211278957, 'longitude': ...</td>\n",
       "      <td>[delivery]</td>\n",
       "      <td>$$</td>\n",
       "      <td>{'address1': '630 Saint Peter St', 'address2':...</td>\n",
       "      <td>+15045251486</td>\n",
       "      <td>(504) 525-1486</td>\n",
       "      <td>1862.914864</td>\n",
       "    </tr>\n",
       "    <tr>\n",
       "      <th>1</th>\n",
       "      <td>SJIQFKTW6uUsOo29w9IHxw</td>\n",
       "      <td>mambos-new-orleans</td>\n",
       "      <td>Mambo's</td>\n",
       "      <td>https://s3-media4.fl.yelpcdn.com/bphoto/tarz6Y...</td>\n",
       "      <td>False</td>\n",
       "      <td>https://www.yelp.com/biz/mambos-new-orleans?ad...</td>\n",
       "      <td>2162</td>\n",
       "      <td>[{'alias': 'cajun', 'title': 'Cajun/Creole'}, ...</td>\n",
       "      <td>4.0</td>\n",
       "      <td>{'latitude': 29.95668, 'longitude': -90.06772}</td>\n",
       "      <td>[pickup, delivery]</td>\n",
       "      <td>$$</td>\n",
       "      <td>{'address1': '411 Bourbon St', 'address2': '',...</td>\n",
       "      <td>+15044073717</td>\n",
       "      <td>(504) 407-3717</td>\n",
       "      <td>1554.302629</td>\n",
       "    </tr>\n",
       "    <tr>\n",
       "      <th>2</th>\n",
       "      <td>swVdc9piXvG0AXwL-F0GfQ</td>\n",
       "      <td>gallier-restaurant-and-oyster-bar-new-orleans</td>\n",
       "      <td>Gallier Restaurant &amp; Oyster Bar</td>\n",
       "      <td>https://s3-media3.fl.yelpcdn.com/bphoto/IUq5PV...</td>\n",
       "      <td>False</td>\n",
       "      <td>https://www.yelp.com/biz/gallier-restaurant-an...</td>\n",
       "      <td>1318</td>\n",
       "      <td>[{'alias': 'seafood', 'title': 'Seafood'}, {'a...</td>\n",
       "      <td>4.5</td>\n",
       "      <td>{'latitude': 29.9533, 'longitude': -90.07077}</td>\n",
       "      <td>[delivery]</td>\n",
       "      <td>$$</td>\n",
       "      <td>{'address1': '129 Carondelet St', 'address2': ...</td>\n",
       "      <td>+15042675672</td>\n",
       "      <td>(504) 267-5672</td>\n",
       "      <td>1303.802022</td>\n",
       "    </tr>\n",
       "    <tr>\n",
       "      <th>3</th>\n",
       "      <td>6a4gLLFSgr-Q6CZXDLzBGQ</td>\n",
       "      <td>cochon-new-orleans-3</td>\n",
       "      <td>Cochon</td>\n",
       "      <td>https://s3-media2.fl.yelpcdn.com/bphoto/Z30o0o...</td>\n",
       "      <td>False</td>\n",
       "      <td>https://www.yelp.com/biz/cochon-new-orleans-3?...</td>\n",
       "      <td>4904</td>\n",
       "      <td>[{'alias': 'cajun', 'title': 'Cajun/Creole'}, ...</td>\n",
       "      <td>4.0</td>\n",
       "      <td>{'latitude': 29.94226, 'longitude': -90.06713}</td>\n",
       "      <td>[delivery]</td>\n",
       "      <td>$$</td>\n",
       "      <td>{'address1': '930 Tchoupitoulas St', 'address2...</td>\n",
       "      <td>+15045882123</td>\n",
       "      <td>(504) 588-2123</td>\n",
       "      <td>2209.984225</td>\n",
       "    </tr>\n",
       "    <tr>\n",
       "      <th>4</th>\n",
       "      <td>9qdUEbbjzjcpPbXKeRN4zw</td>\n",
       "      <td>nonno-s-cajun-cuisine-and-pastries-new-orleans</td>\n",
       "      <td>Nonno’s Cajun Cuisine and Pastries</td>\n",
       "      <td>https://s3-media3.fl.yelpcdn.com/bphoto/cG6oKn...</td>\n",
       "      <td>False</td>\n",
       "      <td>https://www.yelp.com/biz/nonno-s-cajun-cuisine...</td>\n",
       "      <td>199</td>\n",
       "      <td>[{'alias': 'cajun', 'title': 'Cajun/Creole'}, ...</td>\n",
       "      <td>4.5</td>\n",
       "      <td>{'latitude': 29.965278, 'longitude': -90.059175}</td>\n",
       "      <td>[pickup, delivery]</td>\n",
       "      <td>$$</td>\n",
       "      <td>{'address1': '1940 Dauphine St', 'address2': N...</td>\n",
       "      <td>+15043541364</td>\n",
       "      <td>(504) 354-1364</td>\n",
       "      <td>2581.808622</td>\n",
       "    </tr>\n",
       "  </tbody>\n",
       "</table>\n",
       "</div>"
      ],
      "text/plain": [
       "                       id                                           alias  \\\n",
       "0  qb28j-FNX1_6xm7u372TZA                        gumbo-shop-new-orleans-2   \n",
       "1  SJIQFKTW6uUsOo29w9IHxw                              mambos-new-orleans   \n",
       "2  swVdc9piXvG0AXwL-F0GfQ   gallier-restaurant-and-oyster-bar-new-orleans   \n",
       "3  6a4gLLFSgr-Q6CZXDLzBGQ                            cochon-new-orleans-3   \n",
       "4  9qdUEbbjzjcpPbXKeRN4zw  nonno-s-cajun-cuisine-and-pastries-new-orleans   \n",
       "\n",
       "                                 name  \\\n",
       "0                          Gumbo Shop   \n",
       "1                             Mambo's   \n",
       "2     Gallier Restaurant & Oyster Bar   \n",
       "3                              Cochon   \n",
       "4  Nonno’s Cajun Cuisine and Pastries   \n",
       "\n",
       "                                           image_url  is_closed  \\\n",
       "0  https://s3-media2.fl.yelpcdn.com/bphoto/s3LSJn...      False   \n",
       "1  https://s3-media4.fl.yelpcdn.com/bphoto/tarz6Y...      False   \n",
       "2  https://s3-media3.fl.yelpcdn.com/bphoto/IUq5PV...      False   \n",
       "3  https://s3-media2.fl.yelpcdn.com/bphoto/Z30o0o...      False   \n",
       "4  https://s3-media3.fl.yelpcdn.com/bphoto/cG6oKn...      False   \n",
       "\n",
       "                                                 url  review_count  \\\n",
       "0  https://www.yelp.com/biz/gumbo-shop-new-orlean...          4524   \n",
       "1  https://www.yelp.com/biz/mambos-new-orleans?ad...          2162   \n",
       "2  https://www.yelp.com/biz/gallier-restaurant-an...          1318   \n",
       "3  https://www.yelp.com/biz/cochon-new-orleans-3?...          4904   \n",
       "4  https://www.yelp.com/biz/nonno-s-cajun-cuisine...           199   \n",
       "\n",
       "                                          categories  rating  \\\n",
       "0      [{'alias': 'cajun', 'title': 'Cajun/Creole'}]     4.0   \n",
       "1  [{'alias': 'cajun', 'title': 'Cajun/Creole'}, ...     4.0   \n",
       "2  [{'alias': 'seafood', 'title': 'Seafood'}, {'a...     4.5   \n",
       "3  [{'alias': 'cajun', 'title': 'Cajun/Creole'}, ...     4.0   \n",
       "4  [{'alias': 'cajun', 'title': 'Cajun/Creole'}, ...     4.5   \n",
       "\n",
       "                                         coordinates        transactions  \\\n",
       "0  {'latitude': 29.957692211278957, 'longitude': ...          [delivery]   \n",
       "1     {'latitude': 29.95668, 'longitude': -90.06772}  [pickup, delivery]   \n",
       "2      {'latitude': 29.9533, 'longitude': -90.07077}          [delivery]   \n",
       "3     {'latitude': 29.94226, 'longitude': -90.06713}          [delivery]   \n",
       "4   {'latitude': 29.965278, 'longitude': -90.059175}  [pickup, delivery]   \n",
       "\n",
       "  price                                           location         phone  \\\n",
       "0    $$  {'address1': '630 Saint Peter St', 'address2':...  +15045251486   \n",
       "1    $$  {'address1': '411 Bourbon St', 'address2': '',...  +15044073717   \n",
       "2    $$  {'address1': '129 Carondelet St', 'address2': ...  +15042675672   \n",
       "3    $$  {'address1': '930 Tchoupitoulas St', 'address2...  +15045882123   \n",
       "4    $$  {'address1': '1940 Dauphine St', 'address2': N...  +15043541364   \n",
       "\n",
       "    display_phone     distance  \n",
       "0  (504) 525-1486  1862.914864  \n",
       "1  (504) 407-3717  1554.302629  \n",
       "2  (504) 267-5672  1303.802022  \n",
       "3  (504) 588-2123  2209.984225  \n",
       "4  (504) 354-1364  2581.808622  "
      ]
     },
     "metadata": {},
     "output_type": "display_data"
    },
    {
     "data": {
      "text/html": [
       "<div>\n",
       "<style scoped>\n",
       "    .dataframe tbody tr th:only-of-type {\n",
       "        vertical-align: middle;\n",
       "    }\n",
       "\n",
       "    .dataframe tbody tr th {\n",
       "        vertical-align: top;\n",
       "    }\n",
       "\n",
       "    .dataframe thead th {\n",
       "        text-align: right;\n",
       "    }\n",
       "</style>\n",
       "<table border=\"1\" class=\"dataframe\">\n",
       "  <thead>\n",
       "    <tr style=\"text-align: right;\">\n",
       "      <th></th>\n",
       "      <th>id</th>\n",
       "      <th>alias</th>\n",
       "      <th>name</th>\n",
       "      <th>image_url</th>\n",
       "      <th>is_closed</th>\n",
       "      <th>url</th>\n",
       "      <th>review_count</th>\n",
       "      <th>categories</th>\n",
       "      <th>rating</th>\n",
       "      <th>coordinates</th>\n",
       "      <th>transactions</th>\n",
       "      <th>price</th>\n",
       "      <th>location</th>\n",
       "      <th>phone</th>\n",
       "      <th>display_phone</th>\n",
       "      <th>distance</th>\n",
       "    </tr>\n",
       "  </thead>\n",
       "  <tbody>\n",
       "    <tr>\n",
       "      <th>537</th>\n",
       "      <td>5QhbWM3l_NU9Zm-lTJPyMA</td>\n",
       "      <td>new-orleans-gulf-seafood-new-orleans</td>\n",
       "      <td>New Orleans Gulf Seafood</td>\n",
       "      <td></td>\n",
       "      <td>False</td>\n",
       "      <td>https://www.yelp.com/biz/new-orleans-gulf-seaf...</td>\n",
       "      <td>1</td>\n",
       "      <td>[{'alias': 'seafood', 'title': 'Seafood'}, {'a...</td>\n",
       "      <td>3.0</td>\n",
       "      <td>{'latitude': 30.0156133621931, 'longitude': -8...</td>\n",
       "      <td>[]</td>\n",
       "      <td>NaN</td>\n",
       "      <td>{'address1': '9134 Chef Menteur Hwy', 'address...</td>\n",
       "      <td>+15042467329</td>\n",
       "      <td>(504) 246-7329</td>\n",
       "      <td>12068.203542</td>\n",
       "    </tr>\n",
       "    <tr>\n",
       "      <th>538</th>\n",
       "      <td>E48H5Zpw3ndlu7KLHGRyHg</td>\n",
       "      <td>ruths-chris-steak-house-metairie-2</td>\n",
       "      <td>Ruth's Chris Steak House</td>\n",
       "      <td>https://s3-media1.fl.yelpcdn.com/bphoto/lNnb-T...</td>\n",
       "      <td>False</td>\n",
       "      <td>https://www.yelp.com/biz/ruths-chris-steak-hou...</td>\n",
       "      <td>205</td>\n",
       "      <td>[{'alias': 'steak', 'title': 'Steakhouses'}, {...</td>\n",
       "      <td>3.5</td>\n",
       "      <td>{'latitude': 30.0043740015754, 'longitude': -9...</td>\n",
       "      <td>[pickup, delivery]</td>\n",
       "      <td>$$$$</td>\n",
       "      <td>{'address1': '3633 Veterans Blvd', 'address2':...</td>\n",
       "      <td>+15048883600</td>\n",
       "      <td>(504) 888-3600</td>\n",
       "      <td>9352.935520</td>\n",
       "    </tr>\n",
       "    <tr>\n",
       "      <th>539</th>\n",
       "      <td>SyKHFYhRzW1hlwDga5EWWw</td>\n",
       "      <td>whole-foods-market-metairie</td>\n",
       "      <td>Whole Foods Market</td>\n",
       "      <td>https://s3-media2.fl.yelpcdn.com/bphoto/-yJyYr...</td>\n",
       "      <td>False</td>\n",
       "      <td>https://www.yelp.com/biz/whole-foods-market-me...</td>\n",
       "      <td>208</td>\n",
       "      <td>[{'alias': 'grocery', 'title': 'Grocery'}, {'a...</td>\n",
       "      <td>4.0</td>\n",
       "      <td>{'latitude': 30.00200103, 'longitude': -90.158...</td>\n",
       "      <td>[]</td>\n",
       "      <td>$$</td>\n",
       "      <td>{'address1': '3420 Veterans Memorial Blvd', 'a...</td>\n",
       "      <td>+15048888225</td>\n",
       "      <td>(504) 888-8225</td>\n",
       "      <td>8861.903837</td>\n",
       "    </tr>\n",
       "    <tr>\n",
       "      <th>540</th>\n",
       "      <td>qW-7X0NbZlGX7pvswoswCQ</td>\n",
       "      <td>la-maison-creole-harvey-3</td>\n",
       "      <td>La Maison Creole</td>\n",
       "      <td>https://s3-media2.fl.yelpcdn.com/bphoto/kYpSYQ...</td>\n",
       "      <td>False</td>\n",
       "      <td>https://www.yelp.com/biz/la-maison-creole-harv...</td>\n",
       "      <td>15</td>\n",
       "      <td>[{'alias': 'catering', 'title': 'Caterers'}, {...</td>\n",
       "      <td>2.5</td>\n",
       "      <td>{'latitude': 29.9063294, 'longitude': -90.0679...</td>\n",
       "      <td>[]</td>\n",
       "      <td>NaN</td>\n",
       "      <td>{'address1': '1605 8th St', 'address2': '', 'a...</td>\n",
       "      <td>+15043623908</td>\n",
       "      <td>(504) 362-3908</td>\n",
       "      <td>5739.500149</td>\n",
       "    </tr>\n",
       "    <tr>\n",
       "      <th>541</th>\n",
       "      <td>5KzQpZJOtT81nvDT9s1UbQ</td>\n",
       "      <td>china-house-new-orleans</td>\n",
       "      <td>China House</td>\n",
       "      <td>https://s3-media1.fl.yelpcdn.com/bphoto/TL_LyB...</td>\n",
       "      <td>False</td>\n",
       "      <td>https://www.yelp.com/biz/china-house-new-orlea...</td>\n",
       "      <td>17</td>\n",
       "      <td>[{'alias': 'chinese', 'title': 'Chinese'}, {'a...</td>\n",
       "      <td>2.5</td>\n",
       "      <td>{'latitude': 29.92527999774301, 'longitude': -...</td>\n",
       "      <td>[pickup, delivery]</td>\n",
       "      <td>$$</td>\n",
       "      <td>{'address1': '3600 MacArthur Blvd', 'address2'...</td>\n",
       "      <td>+15043685520</td>\n",
       "      <td>(504) 368-5520</td>\n",
       "      <td>7074.404765</td>\n",
       "    </tr>\n",
       "  </tbody>\n",
       "</table>\n",
       "</div>"
      ],
      "text/plain": [
       "                         id                                 alias  \\\n",
       "537  5QhbWM3l_NU9Zm-lTJPyMA  new-orleans-gulf-seafood-new-orleans   \n",
       "538  E48H5Zpw3ndlu7KLHGRyHg    ruths-chris-steak-house-metairie-2   \n",
       "539  SyKHFYhRzW1hlwDga5EWWw           whole-foods-market-metairie   \n",
       "540  qW-7X0NbZlGX7pvswoswCQ             la-maison-creole-harvey-3   \n",
       "541  5KzQpZJOtT81nvDT9s1UbQ               china-house-new-orleans   \n",
       "\n",
       "                         name  \\\n",
       "537  New Orleans Gulf Seafood   \n",
       "538  Ruth's Chris Steak House   \n",
       "539        Whole Foods Market   \n",
       "540          La Maison Creole   \n",
       "541               China House   \n",
       "\n",
       "                                             image_url  is_closed  \\\n",
       "537                                                         False   \n",
       "538  https://s3-media1.fl.yelpcdn.com/bphoto/lNnb-T...      False   \n",
       "539  https://s3-media2.fl.yelpcdn.com/bphoto/-yJyYr...      False   \n",
       "540  https://s3-media2.fl.yelpcdn.com/bphoto/kYpSYQ...      False   \n",
       "541  https://s3-media1.fl.yelpcdn.com/bphoto/TL_LyB...      False   \n",
       "\n",
       "                                                   url  review_count  \\\n",
       "537  https://www.yelp.com/biz/new-orleans-gulf-seaf...             1   \n",
       "538  https://www.yelp.com/biz/ruths-chris-steak-hou...           205   \n",
       "539  https://www.yelp.com/biz/whole-foods-market-me...           208   \n",
       "540  https://www.yelp.com/biz/la-maison-creole-harv...            15   \n",
       "541  https://www.yelp.com/biz/china-house-new-orlea...            17   \n",
       "\n",
       "                                            categories  rating  \\\n",
       "537  [{'alias': 'seafood', 'title': 'Seafood'}, {'a...     3.0   \n",
       "538  [{'alias': 'steak', 'title': 'Steakhouses'}, {...     3.5   \n",
       "539  [{'alias': 'grocery', 'title': 'Grocery'}, {'a...     4.0   \n",
       "540  [{'alias': 'catering', 'title': 'Caterers'}, {...     2.5   \n",
       "541  [{'alias': 'chinese', 'title': 'Chinese'}, {'a...     2.5   \n",
       "\n",
       "                                           coordinates        transactions  \\\n",
       "537  {'latitude': 30.0156133621931, 'longitude': -8...                  []   \n",
       "538  {'latitude': 30.0043740015754, 'longitude': -9...  [pickup, delivery]   \n",
       "539  {'latitude': 30.00200103, 'longitude': -90.158...                  []   \n",
       "540  {'latitude': 29.9063294, 'longitude': -90.0679...                  []   \n",
       "541  {'latitude': 29.92527999774301, 'longitude': -...  [pickup, delivery]   \n",
       "\n",
       "    price                                           location         phone  \\\n",
       "537   NaN  {'address1': '9134 Chef Menteur Hwy', 'address...  +15042467329   \n",
       "538  $$$$  {'address1': '3633 Veterans Blvd', 'address2':...  +15048883600   \n",
       "539    $$  {'address1': '3420 Veterans Memorial Blvd', 'a...  +15048888225   \n",
       "540   NaN  {'address1': '1605 8th St', 'address2': '', 'a...  +15043623908   \n",
       "541    $$  {'address1': '3600 MacArthur Blvd', 'address2'...  +15043685520   \n",
       "\n",
       "      display_phone      distance  \n",
       "537  (504) 246-7329  12068.203542  \n",
       "538  (504) 888-3600   9352.935520  \n",
       "539  (504) 888-8225   8861.903837  \n",
       "540  (504) 362-3908   5739.500149  \n",
       "541  (504) 368-5520   7074.404765  "
      ]
     },
     "metadata": {},
     "output_type": "display_data"
    }
   ],
   "source": [
    "# load final results\n",
    "final_df = pd.read_json(JSON_FILE)\n",
    "display(final_df.head(), final_df.tail())"
   ]
  },
  {
   "cell_type": "code",
   "execution_count": 52,
   "id": "22459a05-5e6c-48b4-b08e-be18dfed720a",
   "metadata": {},
   "outputs": [
    {
     "data": {
      "text/plain": [
       "0"
      ]
     },
     "execution_count": 52,
     "metadata": {},
     "output_type": "execute_result"
    }
   ],
   "source": [
    "# check for duplicate ID's \n",
    "final_df.duplicated(subset='id').sum()"
   ]
  }
 ],
 "metadata": {
  "kernelspec": {
   "display_name": "Python (dojo-env)",
   "language": "python",
   "name": "dojo-env"
  },
  "language_info": {
   "codemirror_mode": {
    "name": "ipython",
    "version": 3
   },
   "file_extension": ".py",
   "mimetype": "text/x-python",
   "name": "python",
   "nbconvert_exporter": "python",
   "pygments_lexer": "ipython3",
   "version": "3.10.10"
  },
  "widgets": {
   "application/vnd.jupyter.widget-state+json": {
    "state": {
     "112bcddda1cb4896853b537ab3b12dac": {
      "model_module": "@jupyter-widgets/controls",
      "model_module_version": "2.0.0",
      "model_name": "HTMLModel",
      "state": {
       "layout": "IPY_MODEL_22119649d5a34458913cc68e774d8522",
       "style": "IPY_MODEL_429469a2dccd456c96ca9a03471ea568",
       "value": " 615/615 [02:06&lt;00:00,  4.86it/s]"
      }
     },
     "127e8754dd41485ebee01c3dd0ac4e67": {
      "model_module": "@jupyter-widgets/controls",
      "model_module_version": "2.0.0",
      "model_name": "HTMLModel",
      "state": {
       "layout": "IPY_MODEL_4e33fb3532c24759bd23f42865c6cb17",
       "style": "IPY_MODEL_a7765ee55ca646a6a4c923b28e878482",
       "value": "  8%"
      }
     },
     "1419fe7d2d18462499f1a9b47aeba577": {
      "model_module": "@jupyter-widgets/controls",
      "model_module_version": "2.0.0",
      "model_name": "ProgressStyleModel",
      "state": {
       "description_width": ""
      }
     },
     "22119649d5a34458913cc68e774d8522": {
      "model_module": "@jupyter-widgets/base",
      "model_module_version": "2.0.0",
      "model_name": "LayoutModel",
      "state": {}
     },
     "26df81a065bd4d84a767cc6faf09b73b": {
      "model_module": "@jupyter-widgets/base",
      "model_module_version": "2.0.0",
      "model_name": "LayoutModel",
      "state": {}
     },
     "294f58036123480fb7ab147d704c949f": {
      "model_module": "@jupyter-widgets/base",
      "model_module_version": "2.0.0",
      "model_name": "LayoutModel",
      "state": {}
     },
     "29ffa597d76746c8a672d9aa0b163afc": {
      "model_module": "@jupyter-widgets/controls",
      "model_module_version": "2.0.0",
      "model_name": "HBoxModel",
      "state": {
       "children": [
        "IPY_MODEL_9295124696124b819ce4b75815fef6a3",
        "IPY_MODEL_f285e3f70d6e447cb7ab4cdf9caa9ac9",
        "IPY_MODEL_112bcddda1cb4896853b537ab3b12dac"
       ],
       "layout": "IPY_MODEL_af198fc5366543cca7135abe42fc1f46"
      }
     },
     "2d06fa5e66bf40c2834d81d21fb5e4cb": {
      "model_module": "@jupyter-widgets/controls",
      "model_module_version": "2.0.0",
      "model_name": "HTMLStyleModel",
      "state": {
       "description_width": "",
       "font_size": null,
       "text_color": null
      }
     },
     "2d0ff1a223b947cd8f4f483aaba2e982": {
      "model_module": "@jupyter-widgets/base",
      "model_module_version": "2.0.0",
      "model_name": "LayoutModel",
      "state": {}
     },
     "2d477d90d9124112b23c1add8ccc4543": {
      "model_module": "@jupyter-widgets/controls",
      "model_module_version": "2.0.0",
      "model_name": "HBoxModel",
      "state": {
       "children": [
        "IPY_MODEL_655b9ffc13014f86b32d59c617e4ac41",
        "IPY_MODEL_7b6af65107774b60b7fc85207bb1c848",
        "IPY_MODEL_f8b3e06e8acb46c5bc0ba8d5a17e3c94"
       ],
       "layout": "IPY_MODEL_7674f18c4ad64f21a5a63855cefda064"
      }
     },
     "324bae5ddacd4b218a396471e6970a4f": {
      "model_module": "@jupyter-widgets/base",
      "model_module_version": "2.0.0",
      "model_name": "LayoutModel",
      "state": {}
     },
     "394ecb17d803471698a58f05a8437884": {
      "model_module": "@jupyter-widgets/base",
      "model_module_version": "2.0.0",
      "model_name": "LayoutModel",
      "state": {}
     },
     "429469a2dccd456c96ca9a03471ea568": {
      "model_module": "@jupyter-widgets/controls",
      "model_module_version": "2.0.0",
      "model_name": "HTMLStyleModel",
      "state": {
       "description_width": "",
       "font_size": null,
       "text_color": null
      }
     },
     "4a665489f4fa42b0bd5ea9c36a06f56d": {
      "model_module": "@jupyter-widgets/base",
      "model_module_version": "2.0.0",
      "model_name": "LayoutModel",
      "state": {}
     },
     "4e33fb3532c24759bd23f42865c6cb17": {
      "model_module": "@jupyter-widgets/base",
      "model_module_version": "2.0.0",
      "model_name": "LayoutModel",
      "state": {}
     },
     "4f671b8ef2514acd854ebe8222842683": {
      "model_module": "@jupyter-widgets/controls",
      "model_module_version": "2.0.0",
      "model_name": "FloatProgressModel",
      "state": {
       "bar_style": "success",
       "layout": "IPY_MODEL_324bae5ddacd4b218a396471e6970a4f",
       "max": 28,
       "style": "IPY_MODEL_bc9114d6728a4514b4d341cbc0a8a4ab",
       "value": 28
      }
     },
     "500c772968f44a45b12b49f0845980fe": {
      "model_module": "@jupyter-widgets/controls",
      "model_module_version": "2.0.0",
      "model_name": "HTMLStyleModel",
      "state": {
       "description_width": "",
       "font_size": null,
       "text_color": null
      }
     },
     "5e441b49c4ee41248de09f62ada2eb59": {
      "model_module": "@jupyter-widgets/controls",
      "model_module_version": "2.0.0",
      "model_name": "ProgressStyleModel",
      "state": {
       "description_width": ""
      }
     },
     "624384055a7f4dda8cd498cea854233f": {
      "model_module": "@jupyter-widgets/controls",
      "model_module_version": "2.0.0",
      "model_name": "FloatProgressModel",
      "state": {
       "bar_style": "danger",
       "layout": "IPY_MODEL_cbd20a30deec4fcdad775e0ccfeafe76",
       "max": 615,
       "style": "IPY_MODEL_1419fe7d2d18462499f1a9b47aeba577",
       "value": 50
      }
     },
     "63da04c9aad2452b97bff7f3674412d4": {
      "model_module": "@jupyter-widgets/controls",
      "model_module_version": "2.0.0",
      "model_name": "HTMLModel",
      "state": {
       "layout": "IPY_MODEL_f36bbef00a264432a7f35189abdb22bd",
       "style": "IPY_MODEL_88b1048e7c824824afb9821bded4def8",
       "value": " 49/615 [01:14&lt;18:10,  1.93s/it]"
      }
     },
     "649991d579704d53ad78875add520e5d": {
      "model_module": "@jupyter-widgets/base",
      "model_module_version": "2.0.0",
      "model_name": "LayoutModel",
      "state": {}
     },
     "655b9ffc13014f86b32d59c617e4ac41": {
      "model_module": "@jupyter-widgets/controls",
      "model_module_version": "2.0.0",
      "model_name": "HTMLModel",
      "state": {
       "layout": "IPY_MODEL_7ca0f31b64d84a2197033bde1fb02320",
       "style": "IPY_MODEL_841de20b10c344cba3c8a0d512c0aba9",
       "value": "100%"
      }
     },
     "68cdd4bdc0964519b4bed892d046703c": {
      "model_module": "@jupyter-widgets/controls",
      "model_module_version": "2.0.0",
      "model_name": "HTMLModel",
      "state": {
       "layout": "IPY_MODEL_a35d7a7f972b42109705f583375f370c",
       "style": "IPY_MODEL_872bacbc157a437dba5b02d9b83eee37",
       "value": "100%"
      }
     },
     "6c81819b80b043ab8c7ce51c5a362e5f": {
      "model_module": "@jupyter-widgets/controls",
      "model_module_version": "2.0.0",
      "model_name": "ProgressStyleModel",
      "state": {
       "description_width": ""
      }
     },
     "7171fff200cc4cd6872e5395b0731d3a": {
      "model_module": "@jupyter-widgets/base",
      "model_module_version": "2.0.0",
      "model_name": "LayoutModel",
      "state": {}
     },
     "7538a63cd29848e38a3306d2eef5e814": {
      "model_module": "@jupyter-widgets/controls",
      "model_module_version": "2.0.0",
      "model_name": "HTMLModel",
      "state": {
       "layout": "IPY_MODEL_2d0ff1a223b947cd8f4f483aaba2e982",
       "style": "IPY_MODEL_bc55d72c80c74401a62d5bf000b4186d",
       "value": "  8%"
      }
     },
     "7674f18c4ad64f21a5a63855cefda064": {
      "model_module": "@jupyter-widgets/base",
      "model_module_version": "2.0.0",
      "model_name": "LayoutModel",
      "state": {}
     },
     "7b6af65107774b60b7fc85207bb1c848": {
      "model_module": "@jupyter-widgets/controls",
      "model_module_version": "2.0.0",
      "model_name": "FloatProgressModel",
      "state": {
       "bar_style": "success",
       "layout": "IPY_MODEL_26df81a065bd4d84a767cc6faf09b73b",
       "max": 28,
       "style": "IPY_MODEL_5e441b49c4ee41248de09f62ada2eb59",
       "value": 28
      }
     },
     "7ca0f31b64d84a2197033bde1fb02320": {
      "model_module": "@jupyter-widgets/base",
      "model_module_version": "2.0.0",
      "model_name": "LayoutModel",
      "state": {}
     },
     "841de20b10c344cba3c8a0d512c0aba9": {
      "model_module": "@jupyter-widgets/controls",
      "model_module_version": "2.0.0",
      "model_name": "HTMLStyleModel",
      "state": {
       "description_width": "",
       "font_size": null,
       "text_color": null
      }
     },
     "872bacbc157a437dba5b02d9b83eee37": {
      "model_module": "@jupyter-widgets/controls",
      "model_module_version": "2.0.0",
      "model_name": "HTMLStyleModel",
      "state": {
       "description_width": "",
       "font_size": null,
       "text_color": null
      }
     },
     "88b1048e7c824824afb9821bded4def8": {
      "model_module": "@jupyter-widgets/controls",
      "model_module_version": "2.0.0",
      "model_name": "HTMLStyleModel",
      "state": {
       "description_width": "",
       "font_size": null,
       "text_color": null
      }
     },
     "8cdd50c4a11f45d39c87cb79d8fb899b": {
      "model_module": "@jupyter-widgets/base",
      "model_module_version": "2.0.0",
      "model_name": "LayoutModel",
      "state": {}
     },
     "9295124696124b819ce4b75815fef6a3": {
      "model_module": "@jupyter-widgets/controls",
      "model_module_version": "2.0.0",
      "model_name": "HTMLModel",
      "state": {
       "layout": "IPY_MODEL_7171fff200cc4cd6872e5395b0731d3a",
       "style": "IPY_MODEL_500c772968f44a45b12b49f0845980fe",
       "value": "100%"
      }
     },
     "995b5033fe1e49ee99baeadee8b247bd": {
      "model_module": "@jupyter-widgets/controls",
      "model_module_version": "2.0.0",
      "model_name": "HTMLModel",
      "state": {
       "layout": "IPY_MODEL_394ecb17d803471698a58f05a8437884",
       "style": "IPY_MODEL_2d06fa5e66bf40c2834d81d21fb5e4cb",
       "value": " 28/28 [00:05&lt;00:00,  4.85it/s]"
      }
     },
     "9b7e5983f3e44890810930542bf77499": {
      "model_module": "@jupyter-widgets/controls",
      "model_module_version": "2.0.0",
      "model_name": "HBoxModel",
      "state": {
       "children": [
        "IPY_MODEL_68cdd4bdc0964519b4bed892d046703c",
        "IPY_MODEL_4f671b8ef2514acd854ebe8222842683",
        "IPY_MODEL_995b5033fe1e49ee99baeadee8b247bd"
       ],
       "layout": "IPY_MODEL_d6c1d42c8dde481d8ee418deac55f9d8"
      }
     },
     "a35d7a7f972b42109705f583375f370c": {
      "model_module": "@jupyter-widgets/base",
      "model_module_version": "2.0.0",
      "model_name": "LayoutModel",
      "state": {}
     },
     "a7765ee55ca646a6a4c923b28e878482": {
      "model_module": "@jupyter-widgets/controls",
      "model_module_version": "2.0.0",
      "model_name": "HTMLStyleModel",
      "state": {
       "description_width": "",
       "font_size": null,
       "text_color": null
      }
     },
     "af198fc5366543cca7135abe42fc1f46": {
      "model_module": "@jupyter-widgets/base",
      "model_module_version": "2.0.0",
      "model_name": "LayoutModel",
      "state": {}
     },
     "b7e97219163949bdb5e9b7c95ad956ff": {
      "model_module": "@jupyter-widgets/controls",
      "model_module_version": "2.0.0",
      "model_name": "HTMLStyleModel",
      "state": {
       "description_width": "",
       "font_size": null,
       "text_color": null
      }
     },
     "bc55d72c80c74401a62d5bf000b4186d": {
      "model_module": "@jupyter-widgets/controls",
      "model_module_version": "2.0.0",
      "model_name": "HTMLStyleModel",
      "state": {
       "description_width": "",
       "font_size": null,
       "text_color": null
      }
     },
     "bc9114d6728a4514b4d341cbc0a8a4ab": {
      "model_module": "@jupyter-widgets/controls",
      "model_module_version": "2.0.0",
      "model_name": "ProgressStyleModel",
      "state": {
       "description_width": ""
      }
     },
     "c24b730bd9f349ae8e5a1e7f128ee980": {
      "model_module": "@jupyter-widgets/controls",
      "model_module_version": "2.0.0",
      "model_name": "HTMLModel",
      "state": {
       "layout": "IPY_MODEL_d9be02da957842c5aad5d0d7b4357518",
       "style": "IPY_MODEL_ed5cf5b319dc4cdd9bbce1ab7746b242",
       "value": " 50/615 [01:16&lt;18:24,  1.96s/it]"
      }
     },
     "cbd20a30deec4fcdad775e0ccfeafe76": {
      "model_module": "@jupyter-widgets/base",
      "model_module_version": "2.0.0",
      "model_name": "LayoutModel",
      "state": {}
     },
     "d6c1d42c8dde481d8ee418deac55f9d8": {
      "model_module": "@jupyter-widgets/base",
      "model_module_version": "2.0.0",
      "model_name": "LayoutModel",
      "state": {}
     },
     "d9be02da957842c5aad5d0d7b4357518": {
      "model_module": "@jupyter-widgets/base",
      "model_module_version": "2.0.0",
      "model_name": "LayoutModel",
      "state": {}
     },
     "e809c03eab7f46159d8810cabd6ba927": {
      "model_module": "@jupyter-widgets/controls",
      "model_module_version": "2.0.0",
      "model_name": "HBoxModel",
      "state": {
       "children": [
        "IPY_MODEL_127e8754dd41485ebee01c3dd0ac4e67",
        "IPY_MODEL_ead9a6d9c22c4b2484ac9c8178f25a18",
        "IPY_MODEL_63da04c9aad2452b97bff7f3674412d4"
       ],
       "layout": "IPY_MODEL_649991d579704d53ad78875add520e5d"
      }
     },
     "ead9a6d9c22c4b2484ac9c8178f25a18": {
      "model_module": "@jupyter-widgets/controls",
      "model_module_version": "2.0.0",
      "model_name": "FloatProgressModel",
      "state": {
       "bar_style": "danger",
       "layout": "IPY_MODEL_4a665489f4fa42b0bd5ea9c36a06f56d",
       "max": 615,
       "style": "IPY_MODEL_6c81819b80b043ab8c7ce51c5a362e5f",
       "value": 49
      }
     },
     "ed5cf5b319dc4cdd9bbce1ab7746b242": {
      "model_module": "@jupyter-widgets/controls",
      "model_module_version": "2.0.0",
      "model_name": "HTMLStyleModel",
      "state": {
       "description_width": "",
       "font_size": null,
       "text_color": null
      }
     },
     "f285e3f70d6e447cb7ab4cdf9caa9ac9": {
      "model_module": "@jupyter-widgets/controls",
      "model_module_version": "2.0.0",
      "model_name": "FloatProgressModel",
      "state": {
       "bar_style": "success",
       "layout": "IPY_MODEL_8cdd50c4a11f45d39c87cb79d8fb899b",
       "max": 615,
       "style": "IPY_MODEL_fcec5d02cfbf4793ae9747fe18bbbfe3",
       "value": 615
      }
     },
     "f36bbef00a264432a7f35189abdb22bd": {
      "model_module": "@jupyter-widgets/base",
      "model_module_version": "2.0.0",
      "model_name": "LayoutModel",
      "state": {}
     },
     "f454fca50fb54c9ba8a08c4b125a5c52": {
      "model_module": "@jupyter-widgets/base",
      "model_module_version": "2.0.0",
      "model_name": "LayoutModel",
      "state": {}
     },
     "f7e75119a54b451ca801cf8bcc0b313e": {
      "model_module": "@jupyter-widgets/controls",
      "model_module_version": "2.0.0",
      "model_name": "HBoxModel",
      "state": {
       "children": [
        "IPY_MODEL_7538a63cd29848e38a3306d2eef5e814",
        "IPY_MODEL_624384055a7f4dda8cd498cea854233f",
        "IPY_MODEL_c24b730bd9f349ae8e5a1e7f128ee980"
       ],
       "layout": "IPY_MODEL_294f58036123480fb7ab147d704c949f"
      }
     },
     "f8b3e06e8acb46c5bc0ba8d5a17e3c94": {
      "model_module": "@jupyter-widgets/controls",
      "model_module_version": "2.0.0",
      "model_name": "HTMLModel",
      "state": {
       "layout": "IPY_MODEL_f454fca50fb54c9ba8a08c4b125a5c52",
       "style": "IPY_MODEL_b7e97219163949bdb5e9b7c95ad956ff",
       "value": " 28/28 [00:29&lt;00:00,  1.13s/it]"
      }
     },
     "fcec5d02cfbf4793ae9747fe18bbbfe3": {
      "model_module": "@jupyter-widgets/controls",
      "model_module_version": "2.0.0",
      "model_name": "ProgressStyleModel",
      "state": {
       "description_width": ""
      }
     }
    },
    "version_major": 2,
    "version_minor": 0
   }
  }
 },
 "nbformat": 4,
 "nbformat_minor": 5
}
